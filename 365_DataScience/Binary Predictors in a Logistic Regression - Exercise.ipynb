{
 "cells": [
  {
   "cell_type": "markdown",
   "metadata": {},
   "source": [
    "# Binary Predictors in a Logistic Regression"
   ]
  },
  {
   "cell_type": "markdown",
   "metadata": {},
   "source": [
    "Using the same code as in the previous exercise, find the odds of 'duration'. \n",
    "\n",
    "What do they tell you?"
   ]
  },
  {
   "cell_type": "markdown",
   "metadata": {},
   "source": [
    "## Import the relevant libraries"
   ]
  },
  {
   "cell_type": "code",
   "execution_count": 1,
   "metadata": {},
   "outputs": [],
   "source": [
    "import numpy as np\n",
    "import pandas as pd\n",
    "import statsmodels.api as sm\n",
    "import matplotlib.pyplot as plt\n",
    "import seaborn as sn\n",
    "sn.set()"
   ]
  },
  {
   "cell_type": "markdown",
   "metadata": {},
   "source": [
    "## Load the data"
   ]
  },
  {
   "cell_type": "markdown",
   "metadata": {},
   "source": [
    "Load the ‘Bank_data.csv’ dataset."
   ]
  },
  {
   "cell_type": "code",
   "execution_count": 2,
   "metadata": {},
   "outputs": [],
   "source": [
    "data = pd.read_csv('C:/Users/---/Desktop/Projects/Practice/365_DataScience/Bank_data.csv')"
   ]
  },
  {
   "cell_type": "code",
   "execution_count": 3,
   "metadata": {},
   "outputs": [
    {
     "data": {
      "text/html": [
       "<div>\n",
       "<style scoped>\n",
       "    .dataframe tbody tr th:only-of-type {\n",
       "        vertical-align: middle;\n",
       "    }\n",
       "\n",
       "    .dataframe tbody tr th {\n",
       "        vertical-align: top;\n",
       "    }\n",
       "\n",
       "    .dataframe thead th {\n",
       "        text-align: right;\n",
       "    }\n",
       "</style>\n",
       "<table border=\"1\" class=\"dataframe\">\n",
       "  <thead>\n",
       "    <tr style=\"text-align: right;\">\n",
       "      <th></th>\n",
       "      <th>Unnamed: 0</th>\n",
       "      <th>interest_rate</th>\n",
       "      <th>credit</th>\n",
       "      <th>march</th>\n",
       "      <th>may</th>\n",
       "      <th>previous</th>\n",
       "      <th>duration</th>\n",
       "      <th>y</th>\n",
       "    </tr>\n",
       "  </thead>\n",
       "  <tbody>\n",
       "    <tr>\n",
       "      <td>0</td>\n",
       "      <td>0</td>\n",
       "      <td>1.334</td>\n",
       "      <td>0.0</td>\n",
       "      <td>1.0</td>\n",
       "      <td>0.0</td>\n",
       "      <td>0.0</td>\n",
       "      <td>117.0</td>\n",
       "      <td>0</td>\n",
       "    </tr>\n",
       "    <tr>\n",
       "      <td>1</td>\n",
       "      <td>1</td>\n",
       "      <td>0.767</td>\n",
       "      <td>0.0</td>\n",
       "      <td>0.0</td>\n",
       "      <td>2.0</td>\n",
       "      <td>1.0</td>\n",
       "      <td>274.0</td>\n",
       "      <td>1</td>\n",
       "    </tr>\n",
       "    <tr>\n",
       "      <td>2</td>\n",
       "      <td>2</td>\n",
       "      <td>4.858</td>\n",
       "      <td>0.0</td>\n",
       "      <td>1.0</td>\n",
       "      <td>0.0</td>\n",
       "      <td>0.0</td>\n",
       "      <td>167.0</td>\n",
       "      <td>0</td>\n",
       "    </tr>\n",
       "    <tr>\n",
       "      <td>3</td>\n",
       "      <td>3</td>\n",
       "      <td>4.120</td>\n",
       "      <td>0.0</td>\n",
       "      <td>0.0</td>\n",
       "      <td>0.0</td>\n",
       "      <td>0.0</td>\n",
       "      <td>686.0</td>\n",
       "      <td>1</td>\n",
       "    </tr>\n",
       "    <tr>\n",
       "      <td>4</td>\n",
       "      <td>4</td>\n",
       "      <td>4.856</td>\n",
       "      <td>0.0</td>\n",
       "      <td>1.0</td>\n",
       "      <td>0.0</td>\n",
       "      <td>0.0</td>\n",
       "      <td>157.0</td>\n",
       "      <td>0</td>\n",
       "    </tr>\n",
       "    <tr>\n",
       "      <td>...</td>\n",
       "      <td>...</td>\n",
       "      <td>...</td>\n",
       "      <td>...</td>\n",
       "      <td>...</td>\n",
       "      <td>...</td>\n",
       "      <td>...</td>\n",
       "      <td>...</td>\n",
       "      <td>...</td>\n",
       "    </tr>\n",
       "    <tr>\n",
       "      <td>513</td>\n",
       "      <td>513</td>\n",
       "      <td>1.334</td>\n",
       "      <td>0.0</td>\n",
       "      <td>1.0</td>\n",
       "      <td>0.0</td>\n",
       "      <td>0.0</td>\n",
       "      <td>204.0</td>\n",
       "      <td>0</td>\n",
       "    </tr>\n",
       "    <tr>\n",
       "      <td>514</td>\n",
       "      <td>514</td>\n",
       "      <td>0.861</td>\n",
       "      <td>0.0</td>\n",
       "      <td>0.0</td>\n",
       "      <td>2.0</td>\n",
       "      <td>1.0</td>\n",
       "      <td>806.0</td>\n",
       "      <td>1</td>\n",
       "    </tr>\n",
       "    <tr>\n",
       "      <td>515</td>\n",
       "      <td>515</td>\n",
       "      <td>0.879</td>\n",
       "      <td>0.0</td>\n",
       "      <td>0.0</td>\n",
       "      <td>0.0</td>\n",
       "      <td>0.0</td>\n",
       "      <td>290.0</td>\n",
       "      <td>0</td>\n",
       "    </tr>\n",
       "    <tr>\n",
       "      <td>516</td>\n",
       "      <td>516</td>\n",
       "      <td>0.877</td>\n",
       "      <td>0.0</td>\n",
       "      <td>0.0</td>\n",
       "      <td>5.0</td>\n",
       "      <td>1.0</td>\n",
       "      <td>473.0</td>\n",
       "      <td>1</td>\n",
       "    </tr>\n",
       "    <tr>\n",
       "      <td>517</td>\n",
       "      <td>517</td>\n",
       "      <td>4.965</td>\n",
       "      <td>0.0</td>\n",
       "      <td>0.0</td>\n",
       "      <td>0.0</td>\n",
       "      <td>0.0</td>\n",
       "      <td>142.0</td>\n",
       "      <td>0</td>\n",
       "    </tr>\n",
       "  </tbody>\n",
       "</table>\n",
       "<p>518 rows × 8 columns</p>\n",
       "</div>"
      ],
      "text/plain": [
       "     Unnamed: 0  interest_rate  credit  march  may  previous  duration  y\n",
       "0             0          1.334     0.0    1.0  0.0       0.0     117.0  0\n",
       "1             1          0.767     0.0    0.0  2.0       1.0     274.0  1\n",
       "2             2          4.858     0.0    1.0  0.0       0.0     167.0  0\n",
       "3             3          4.120     0.0    0.0  0.0       0.0     686.0  1\n",
       "4             4          4.856     0.0    1.0  0.0       0.0     157.0  0\n",
       "..          ...            ...     ...    ...  ...       ...       ... ..\n",
       "513         513          1.334     0.0    1.0  0.0       0.0     204.0  0\n",
       "514         514          0.861     0.0    0.0  2.0       1.0     806.0  1\n",
       "515         515          0.879     0.0    0.0  0.0       0.0     290.0  0\n",
       "516         516          0.877     0.0    0.0  5.0       1.0     473.0  1\n",
       "517         517          4.965     0.0    0.0  0.0       0.0     142.0  0\n",
       "\n",
       "[518 rows x 8 columns]"
      ]
     },
     "execution_count": 3,
     "metadata": {},
     "output_type": "execute_result"
    }
   ],
   "source": [
    "# We make sure to create a copy of the data before we start altering it. Note that we don't change the original data we loaded.\n",
    "data_dummy = data.copy()\n",
    "# Removes the index column thata comes with the data\n",
    "data_dummy = data_dummy.drop(['Unnamed: 0'], axis = 1)\n",
    "# We use the map function to change any 'yes' values to 1 and 'no'values to 0. \n",
    "data['y'] = data['y'].map({'yes':1, 'no':0})\n",
    "data"
   ]
  },
  {
   "cell_type": "code",
   "execution_count": 4,
   "metadata": {},
   "outputs": [
    {
     "data": {
      "text/html": [
       "<div>\n",
       "<style scoped>\n",
       "    .dataframe tbody tr th:only-of-type {\n",
       "        vertical-align: middle;\n",
       "    }\n",
       "\n",
       "    .dataframe tbody tr th {\n",
       "        vertical-align: top;\n",
       "    }\n",
       "\n",
       "    .dataframe thead th {\n",
       "        text-align: right;\n",
       "    }\n",
       "</style>\n",
       "<table border=\"1\" class=\"dataframe\">\n",
       "  <thead>\n",
       "    <tr style=\"text-align: right;\">\n",
       "      <th></th>\n",
       "      <th>Unnamed: 0</th>\n",
       "      <th>interest_rate</th>\n",
       "      <th>credit</th>\n",
       "      <th>march</th>\n",
       "      <th>may</th>\n",
       "      <th>previous</th>\n",
       "      <th>duration</th>\n",
       "      <th>y</th>\n",
       "    </tr>\n",
       "  </thead>\n",
       "  <tbody>\n",
       "    <tr>\n",
       "      <td>count</td>\n",
       "      <td>518.000000</td>\n",
       "      <td>518.000000</td>\n",
       "      <td>518.000000</td>\n",
       "      <td>518.000000</td>\n",
       "      <td>518.000000</td>\n",
       "      <td>518.000000</td>\n",
       "      <td>518.000000</td>\n",
       "      <td>518.000000</td>\n",
       "    </tr>\n",
       "    <tr>\n",
       "      <td>mean</td>\n",
       "      <td>258.500000</td>\n",
       "      <td>2.835776</td>\n",
       "      <td>0.034749</td>\n",
       "      <td>0.266409</td>\n",
       "      <td>0.388031</td>\n",
       "      <td>0.127413</td>\n",
       "      <td>382.177606</td>\n",
       "      <td>0.500000</td>\n",
       "    </tr>\n",
       "    <tr>\n",
       "      <td>std</td>\n",
       "      <td>149.677988</td>\n",
       "      <td>1.876903</td>\n",
       "      <td>0.183321</td>\n",
       "      <td>0.442508</td>\n",
       "      <td>0.814527</td>\n",
       "      <td>0.333758</td>\n",
       "      <td>344.295990</td>\n",
       "      <td>0.500483</td>\n",
       "    </tr>\n",
       "    <tr>\n",
       "      <td>min</td>\n",
       "      <td>0.000000</td>\n",
       "      <td>0.635000</td>\n",
       "      <td>0.000000</td>\n",
       "      <td>0.000000</td>\n",
       "      <td>0.000000</td>\n",
       "      <td>0.000000</td>\n",
       "      <td>9.000000</td>\n",
       "      <td>0.000000</td>\n",
       "    </tr>\n",
       "    <tr>\n",
       "      <td>25%</td>\n",
       "      <td>129.250000</td>\n",
       "      <td>1.042750</td>\n",
       "      <td>0.000000</td>\n",
       "      <td>0.000000</td>\n",
       "      <td>0.000000</td>\n",
       "      <td>0.000000</td>\n",
       "      <td>155.000000</td>\n",
       "      <td>0.000000</td>\n",
       "    </tr>\n",
       "    <tr>\n",
       "      <td>50%</td>\n",
       "      <td>258.500000</td>\n",
       "      <td>1.466000</td>\n",
       "      <td>0.000000</td>\n",
       "      <td>0.000000</td>\n",
       "      <td>0.000000</td>\n",
       "      <td>0.000000</td>\n",
       "      <td>266.500000</td>\n",
       "      <td>0.500000</td>\n",
       "    </tr>\n",
       "    <tr>\n",
       "      <td>75%</td>\n",
       "      <td>387.750000</td>\n",
       "      <td>4.956500</td>\n",
       "      <td>0.000000</td>\n",
       "      <td>1.000000</td>\n",
       "      <td>0.000000</td>\n",
       "      <td>0.000000</td>\n",
       "      <td>482.750000</td>\n",
       "      <td>1.000000</td>\n",
       "    </tr>\n",
       "    <tr>\n",
       "      <td>max</td>\n",
       "      <td>517.000000</td>\n",
       "      <td>4.970000</td>\n",
       "      <td>1.000000</td>\n",
       "      <td>1.000000</td>\n",
       "      <td>5.000000</td>\n",
       "      <td>1.000000</td>\n",
       "      <td>2653.000000</td>\n",
       "      <td>1.000000</td>\n",
       "    </tr>\n",
       "  </tbody>\n",
       "</table>\n",
       "</div>"
      ],
      "text/plain": [
       "       Unnamed: 0  interest_rate      credit       march         may  \\\n",
       "count  518.000000     518.000000  518.000000  518.000000  518.000000   \n",
       "mean   258.500000       2.835776    0.034749    0.266409    0.388031   \n",
       "std    149.677988       1.876903    0.183321    0.442508    0.814527   \n",
       "min      0.000000       0.635000    0.000000    0.000000    0.000000   \n",
       "25%    129.250000       1.042750    0.000000    0.000000    0.000000   \n",
       "50%    258.500000       1.466000    0.000000    0.000000    0.000000   \n",
       "75%    387.750000       4.956500    0.000000    1.000000    0.000000   \n",
       "max    517.000000       4.970000    1.000000    1.000000    5.000000   \n",
       "\n",
       "         previous     duration           y  \n",
       "count  518.000000   518.000000  518.000000  \n",
       "mean     0.127413   382.177606    0.500000  \n",
       "std      0.333758   344.295990    0.500483  \n",
       "min      0.000000     9.000000    0.000000  \n",
       "25%      0.000000   155.000000    0.000000  \n",
       "50%      0.000000   266.500000    0.500000  \n",
       "75%      0.000000   482.750000    1.000000  \n",
       "max      1.000000  2653.000000    1.000000  "
      ]
     },
     "execution_count": 4,
     "metadata": {},
     "output_type": "execute_result"
    }
   ],
   "source": [
    "data.describe()"
   ]
  },
  {
   "cell_type": "markdown",
   "metadata": {},
   "source": [
    "### Declare the dependent and independent variables"
   ]
  },
  {
   "cell_type": "markdown",
   "metadata": {},
   "source": [
    "Use 'duration' as the independet variable."
   ]
  },
  {
   "cell_type": "code",
   "execution_count": 5,
   "metadata": {},
   "outputs": [],
   "source": [
    "x1 = data['duration']\n",
    "y = data['y']"
   ]
  },
  {
   "cell_type": "markdown",
   "metadata": {},
   "source": [
    "### Simple Logistic Regression"
   ]
  },
  {
   "cell_type": "markdown",
   "metadata": {},
   "source": [
    "Run the regression."
   ]
  },
  {
   "cell_type": "code",
   "execution_count": 6,
   "metadata": {},
   "outputs": [
    {
     "name": "stdout",
     "output_type": "stream",
     "text": [
      "Optimization terminated successfully.\n",
      "         Current function value: 0.546118\n",
      "         Iterations 7\n"
     ]
    },
    {
     "name": "stderr",
     "output_type": "stream",
     "text": [
      "C:\\Users\\---\\Anaconda3\\lib\\site-packages\\numpy\\core\\fromnumeric.py:2389: FutureWarning: Method .ptp is deprecated and will be removed in a future version. Use numpy.ptp instead.\n",
      "  return ptp(axis=axis, out=out, **kwargs)\n"
     ]
    },
    {
     "data": {
      "text/html": [
       "<table class=\"simpletable\">\n",
       "<caption>Logit Regression Results</caption>\n",
       "<tr>\n",
       "  <th>Dep. Variable:</th>           <td>y</td>        <th>  No. Observations:  </th>  <td>   518</td>  \n",
       "</tr>\n",
       "<tr>\n",
       "  <th>Model:</th>                 <td>Logit</td>      <th>  Df Residuals:      </th>  <td>   516</td>  \n",
       "</tr>\n",
       "<tr>\n",
       "  <th>Method:</th>                 <td>MLE</td>       <th>  Df Model:          </th>  <td>     1</td>  \n",
       "</tr>\n",
       "<tr>\n",
       "  <th>Date:</th>            <td>Thu, 15 Oct 2020</td> <th>  Pseudo R-squ.:     </th>  <td>0.2121</td>  \n",
       "</tr>\n",
       "<tr>\n",
       "  <th>Time:</th>                <td>14:33:56</td>     <th>  Log-Likelihood:    </th> <td> -282.89</td> \n",
       "</tr>\n",
       "<tr>\n",
       "  <th>converged:</th>             <td>True</td>       <th>  LL-Null:           </th> <td> -359.05</td> \n",
       "</tr>\n",
       "<tr>\n",
       "  <th>Covariance Type:</th>     <td>nonrobust</td>    <th>  LLR p-value:       </th> <td>5.387e-35</td>\n",
       "</tr>\n",
       "</table>\n",
       "<table class=\"simpletable\">\n",
       "<tr>\n",
       "      <td></td>        <th>coef</th>     <th>std err</th>      <th>z</th>      <th>P>|z|</th>  <th>[0.025</th>    <th>0.975]</th>  \n",
       "</tr>\n",
       "<tr>\n",
       "  <th>const</th>    <td>   -1.7001</td> <td>    0.192</td> <td>   -8.863</td> <td> 0.000</td> <td>   -2.076</td> <td>   -1.324</td>\n",
       "</tr>\n",
       "<tr>\n",
       "  <th>duration</th> <td>    0.0051</td> <td>    0.001</td> <td>    9.159</td> <td> 0.000</td> <td>    0.004</td> <td>    0.006</td>\n",
       "</tr>\n",
       "</table>"
      ],
      "text/plain": [
       "<class 'statsmodels.iolib.summary.Summary'>\n",
       "\"\"\"\n",
       "                           Logit Regression Results                           \n",
       "==============================================================================\n",
       "Dep. Variable:                      y   No. Observations:                  518\n",
       "Model:                          Logit   Df Residuals:                      516\n",
       "Method:                           MLE   Df Model:                            1\n",
       "Date:                Thu, 15 Oct 2020   Pseudo R-squ.:                  0.2121\n",
       "Time:                        14:33:56   Log-Likelihood:                -282.89\n",
       "converged:                       True   LL-Null:                       -359.05\n",
       "Covariance Type:            nonrobust   LLR p-value:                 5.387e-35\n",
       "==============================================================================\n",
       "                 coef    std err          z      P>|z|      [0.025      0.975]\n",
       "------------------------------------------------------------------------------\n",
       "const         -1.7001      0.192     -8.863      0.000      -2.076      -1.324\n",
       "duration       0.0051      0.001      9.159      0.000       0.004       0.006\n",
       "==============================================================================\n",
       "\"\"\""
      ]
     },
     "execution_count": 6,
     "metadata": {},
     "output_type": "execute_result"
    }
   ],
   "source": [
    "x = sm.add_constant(x1)\n",
    "reg_log = sm.Logit(y,x)\n",
    "result_log = reg_log.fit()\n",
    "result_log.summary()"
   ]
  },
  {
   "cell_type": "code",
   "execution_count": 7,
   "metadata": {},
   "outputs": [
    {
     "data": {
      "image/png": "[encoded data removed]",
      "text/plain": [
       "<Figure size 432x288 with 1 Axes>"
      ]
     },
     "metadata": {
      "needs_background": "light"
     },
     "output_type": "display_data"
    }
   ],
   "source": [
    "# Create a scatter plot of x1 (Duration, no constant) and y (Subscribed)\n",
    "plt.scatter(x1,y,color = 'C0')\n",
    "# Don't forget to label your axes!\n",
    "plt.xlabel('Duration', fontsize = 20)\n",
    "plt.ylabel('Subscription', fontsize = 20)\n",
    "plt.show()"
   ]
  },
  {
   "cell_type": "markdown",
   "metadata": {},
   "source": [
    "### Find the odds of duration"
   ]
  },
  {
   "cell_type": "code",
   "execution_count": 8,
   "metadata": {},
   "outputs": [
    {
     "data": {
      "text/plain": [
       "1.005113027136717"
      ]
     },
     "execution_count": 8,
     "metadata": {},
     "output_type": "execute_result"
    }
   ],
   "source": [
    "np.exp(\t0.0051)"
   ]
  },
  {
   "cell_type": "markdown",
   "metadata": {},
   "source": [
    "The odds of duration are pretty close to 1. This tells us that although duration is a significant predictor, a change in 1 day would barely affect the regression. \n",
    "\n",
    "Note that we could have inferred that from the coefficient itself.\n",
    "\n",
    "Finally, note that the data is not standardized (scaled) and duration is a feature of a relatively big order of magnitude."
   ]
  },
  {
   "cell_type": "markdown",
   "metadata": {},
   "source": [
    "## Lets test the accuracy of the model"
   ]
  },
  {
   "cell_type": "code",
   "execution_count": 10,
   "metadata": {},
   "outputs": [
    {
     "data": {
      "text/plain": [
       "array([0.24936904, 0.42571348, 0.30019503, 0.85898342, 0.28956627,\n",
       "       0.2580803 , 0.21914028, 0.16614452, 0.86976608, 0.31987434,\n",
       "       0.55276776, 0.22532533, 0.30234734, 0.39480294, 0.35411888,\n",
       "       0.489064  , 0.29167414, 0.25225084, 0.50567672, 0.82802726,\n",
       "       0.84413091, 0.5890681 , 0.45848474, 0.40215497, 0.44961416,\n",
       "       0.20546539, 0.4157464 , 0.42321571, 0.58286683, 0.2580803 ,\n",
       "       0.17928751, 0.2580803 , 0.85711543, 0.43322907, 0.293791  ,\n",
       "       0.32658401, 0.98373368, 0.21652721, 0.99665611, 0.62920727,\n",
       "       0.2639969 , 0.49417474, 0.30885632, 0.27711089, 0.28746746,\n",
       "       0.2474601 , 0.19643708, 0.30342677, 0.30559213, 0.4712014 ,\n",
       "       0.87376626, 0.20132396, 0.22177596, 0.28642146, 0.25612742,\n",
       "       0.49417474, 0.27916371, 0.20214723, 0.88872861, 0.53501481,\n",
       "       0.23806331, 0.24556099, 0.90211616, 0.40092648, 0.51078751,\n",
       "       0.45975425, 0.28019361, 0.30450837, 0.87432905, 0.23713725,\n",
       "       0.18231618, 0.3706541 , 0.4724754 , 0.38144917, 0.54009814,\n",
       "       0.26499142, 0.40955126, 0.57163945, 0.29273144, 0.20713955,\n",
       "       0.34366753, 0.43448476, 0.29912217, 0.45721577, 0.40584778,\n",
       "       0.96977349, 0.30234734, 0.52865053, 0.40092648, 0.22981841,\n",
       "       0.35646087, 0.22001633, 0.37423872, 0.31876317, 0.77188171,\n",
       "       0.81375221, 0.79693085, 0.19805601, 0.98331956, 0.30450837,\n",
       "       0.93048438, 0.34366753, 0.89270915, 0.41202599, 0.49800865,\n",
       "       0.50184279, 0.41823205, 0.34597743, 0.41823205, 0.5171727 ,\n",
       "       0.53882805, 0.24556099, 0.30667805, 0.20546539, 0.7418059 ,\n",
       "       0.17928751, 0.2512878 , 0.88304484, 0.60015818, 0.47629948,\n",
       "       0.23254427, 0.17188814, 0.39847323, 0.99446526, 0.47629948,\n",
       "       0.96015351, 0.36471144, 0.59277546, 0.34251534, 0.4157464 ,\n",
       "       0.28537775, 0.33109711, 0.47885045, 0.90256666, 0.45848474,\n",
       "       0.68332439, 0.57414123, 0.42821504, 0.42696379, 0.30885632,\n",
       "       0.2580803 , 0.23437399, 0.83728563, 0.44077551, 0.83518536,\n",
       "       0.6457452 , 0.3826561 , 0.25710265, 0.99958344, 0.26004286,\n",
       "       0.95936376, 0.74763705, 0.97094956, 0.86083095, 0.19724529,\n",
       "       0.28851573, 0.81759521, 0.96545422, 0.82212514, 0.97724027,\n",
       "       0.46992777, 0.56536922, 0.93244242, 0.41326503, 0.30667805,\n",
       "       0.44329726, 0.28642146, 0.28329719, 0.22265954, 0.57788676,\n",
       "       0.67328529, 0.49673063, 0.44834942, 0.27303329, 0.28642146,\n",
       "       0.98491629, 0.32996588, 0.24556099, 0.61357357, 0.36234577,\n",
       "       0.51589604, 0.27303329, 0.42696379, 0.91950756, 0.2639969 ,\n",
       "       0.34482156, 0.16543748, 0.23163316, 0.99946492, 0.30885632,\n",
       "       0.32883661, 0.55276776, 0.22089489, 0.65735083, 0.34482156,\n",
       "       0.16193843, 0.6975273 , 0.21566122, 0.68332439, 0.41947645,\n",
       "       0.28122583, 0.81063309, 0.48778663, 0.92174878, 0.2580803 ,\n",
       "       0.4169887 , 0.48395555, 0.86565863, 0.42571348, 0.97654796,\n",
       "       0.34713511, 0.4070811 , 0.93497359, 0.40338469, 0.21739572,\n",
       "       0.86326272, 0.88822206, 0.20132396, 0.34482156, 0.19164035,\n",
       "       0.59277546, 0.74860038, 0.20214723, 0.29061908, 0.89023623,\n",
       "       0.34945591, 0.82287149, 0.3132384 , 0.99423554, 0.96476567,\n",
       "       0.65040899, 0.35061899, 0.53628637, 0.94063537, 0.81987129,\n",
       "       0.98476364, 0.3706541 , 0.33906994, 0.5120649 , 0.5641126 ,\n",
       "       0.28329719, 0.76916997, 0.23072454, 0.20630121, 0.97007176,\n",
       "       0.99471283, 0.60627604, 0.23529259, 0.94063537, 0.72786255,\n",
       "       0.31433919, 0.80427511, 0.20882377, 0.20966965, 0.28329719,\n",
       "       0.65504417, 0.38144917, 0.21739572, 0.53882805, 0.58037884,\n",
       "       0.66079688, 0.82361539, 0.99620196, 0.39724851, 0.29591681,\n",
       "       0.26698762, 0.51589604, 0.27608797, 0.72786255, 0.57038718,\n",
       "       0.89891042, 0.53501481, 0.75147569, 0.23992287, 0.99332049,\n",
       "       0.45087956, 0.74667128, 0.2750674 , 0.42446411, 0.33792522,\n",
       "       0.89983574, 0.2750674 , 0.94423959, 0.99995738, 0.39847323,\n",
       "       0.96073615, 0.21222237, 0.99013031, 0.41450518, 0.341365  ,\n",
       "       0.28956627, 0.39602507, 0.6527302 , 0.24650931, 0.46865454,\n",
       "       0.28642146, 0.31987434, 0.20966965, 0.20966965, 0.80022005,\n",
       "       0.47629948, 0.3322303 , 0.31876317, 0.40461563, 0.32322008,\n",
       "       0.27813613, 0.35528901, 0.98506744, 0.75527505, 0.30776611,\n",
       "       0.29167414, 0.31765407, 0.19006143, 0.39480294, 0.95732329,\n",
       "       0.31544207, 0.96612978, 0.52610209, 0.77007639, 0.65850138,\n",
       "       0.31213971, 0.24179235, 0.24556099, 0.24367173, 0.20966965,\n",
       "       0.35178386, 0.48650942, 0.26201507, 0.99624045, 0.16055562,\n",
       "       0.99202219, 0.93497359, 0.99358644, 0.34021653, 0.19563137,\n",
       "       0.3356415 , 0.86144227, 0.37184741, 0.85073956, 0.65504417,\n",
       "       0.67440884, 0.26698762, 0.98676882, 0.51461918, 0.18307954,\n",
       "       0.35880975, 0.76643575, 0.99999295, 0.35763445, 0.27303329,\n",
       "       0.55403124, 0.77812146, 0.19724529, 0.69210727, 0.79023186,\n",
       "       0.32322008, 0.61478497, 0.29591681, 0.16193843, 0.22891479,\n",
       "       0.32658401, 0.24841334, 0.3345025 , 0.28122583, 0.61478497,\n",
       "       0.96947234, 0.39236262, 0.4521456 , 0.57663923, 0.28746746,\n",
       "       0.99848325, 0.98397728, 0.43951577, 0.60749569, 0.5890681 ,\n",
       "       0.28433632, 0.36471144, 0.24179235, 0.91798103, 0.38871224,\n",
       "       0.47629948, 0.37543668, 0.31765407, 0.84345709, 0.37423872,\n",
       "       0.31433919, 0.5043988 , 0.21051804, 0.28019361, 0.59154082,\n",
       "       0.2750674 , 0.19805601, 0.64457487, 0.34945591, 0.97971382,\n",
       "       0.3826561 , 0.41078806, 0.36946236, 0.55907801, 0.78423825,\n",
       "       0.50695457, 0.25515462, 0.55276776, 0.87432905, 0.21826675,\n",
       "       0.29167414, 0.53119748, 0.97930339, 0.50950998, 0.94738292,\n",
       "       0.58659087, 0.78163184, 0.72174454, 0.65157049, 0.40461563,\n",
       "       0.40584778, 0.68221711, 0.18461368, 0.73389564, 0.4070811 ,\n",
       "       0.73289607, 0.44455924, 0.5641126 , 0.36827222, 0.5171727 ,\n",
       "       0.39358212, 0.5952412 , 0.3132384 , 0.51461918, 0.90390706,\n",
       "       0.86625204, 0.26102776, 0.569134  , 0.59030503, 0.42072186,\n",
       "       0.38507431, 0.26698762, 0.48012635, 0.44077551, 0.94661314,\n",
       "       0.24179235, 0.28329719, 0.37184741, 0.19643708, 0.83867379,\n",
       "       0.54390523, 0.4083156 , 0.64105353, 0.83728563, 0.24556099,\n",
       "       0.83163665, 0.78596328, 0.27404917, 0.92675773, 0.23529259,\n",
       "       0.28019361, 0.97094956, 0.73984278, 0.29273144, 0.341365  ,\n",
       "       0.29698305, 0.7258326 , 0.53755746, 0.28329719, 0.30019503,\n",
       "       0.2679893 , 0.23529259, 0.99978009, 0.3874982 , 0.32770932,\n",
       "       0.68221711, 0.67664992, 0.39847323, 0.98306613, 0.65619842,\n",
       "       0.34945591, 0.32883661, 0.5791333 , 0.36352778, 0.85898342,\n",
       "       0.19164035, 0.52865053, 0.45594735, 0.18461368, 0.98437533,\n",
       "       0.86021738, 0.81911507, 0.87091986, 0.80346911, 0.39602507,\n",
       "       0.23992287, 0.87655878, 0.81219763, 0.59277546, 0.20966965,\n",
       "       0.25906037, 0.3221028 , 0.31433919, 0.49161915, 0.24179235,\n",
       "       0.66877127, 0.20966965, 0.27303329, 0.2474601 , 0.30450837,\n",
       "       0.69968011, 0.54136772, 0.16124582, 0.91444956, 0.43197424,\n",
       "       0.67553039, 0.67888292, 0.36589675, 0.341365  , 0.91836512,\n",
       "       0.44582194, 0.67215975, 0.27404917])"
      ]
     },
     "execution_count": 10,
     "metadata": {},
     "output_type": "execute_result"
    }
   ],
   "source": [
    "result_log.predict()"
   ]
  },
  {
   "cell_type": "code",
   "execution_count": 12,
   "metadata": {},
   "outputs": [
    {
     "data": {
      "text/plain": [
       "array([0.25, 0.43, 0.30, 0.86, 0.29, 0.26, 0.22, 0.17, 0.87, 0.32, 0.55,\n",
       "       0.23, 0.30, 0.39, 0.35, 0.49, 0.29, 0.25, 0.51, 0.83, 0.84, 0.59,\n",
       "       0.46, 0.40, 0.45, 0.21, 0.42, 0.42, 0.58, 0.26, 0.18, 0.26, 0.86,\n",
       "       0.43, 0.29, 0.33, 0.98, 0.22, 1.00, 0.63, 0.26, 0.49, 0.31, 0.28,\n",
       "       0.29, 0.25, 0.20, 0.30, 0.31, 0.47, 0.87, 0.20, 0.22, 0.29, 0.26,\n",
       "       0.49, 0.28, 0.20, 0.89, 0.54, 0.24, 0.25, 0.90, 0.40, 0.51, 0.46,\n",
       "       0.28, 0.30, 0.87, 0.24, 0.18, 0.37, 0.47, 0.38, 0.54, 0.26, 0.41,\n",
       "       0.57, 0.29, 0.21, 0.34, 0.43, 0.30, 0.46, 0.41, 0.97, 0.30, 0.53,\n",
       "       0.40, 0.23, 0.36, 0.22, 0.37, 0.32, 0.77, 0.81, 0.80, 0.20, 0.98,\n",
       "       0.30, 0.93, 0.34, 0.89, 0.41, 0.50, 0.50, 0.42, 0.35, 0.42, 0.52,\n",
       "       0.54, 0.25, 0.31, 0.21, 0.74, 0.18, 0.25, 0.88, 0.60, 0.48, 0.23,\n",
       "       0.17, 0.40, 0.99, 0.48, 0.96, 0.36, 0.59, 0.34, 0.42, 0.29, 0.33,\n",
       "       0.48, 0.90, 0.46, 0.68, 0.57, 0.43, 0.43, 0.31, 0.26, 0.23, 0.84,\n",
       "       0.44, 0.84, 0.65, 0.38, 0.26, 1.00, 0.26, 0.96, 0.75, 0.97, 0.86,\n",
       "       0.20, 0.29, 0.82, 0.97, 0.82, 0.98, 0.47, 0.57, 0.93, 0.41, 0.31,\n",
       "       0.44, 0.29, 0.28, 0.22, 0.58, 0.67, 0.50, 0.45, 0.27, 0.29, 0.98,\n",
       "       0.33, 0.25, 0.61, 0.36, 0.52, 0.27, 0.43, 0.92, 0.26, 0.34, 0.17,\n",
       "       0.23, 1.00, 0.31, 0.33, 0.55, 0.22, 0.66, 0.34, 0.16, 0.70, 0.22,\n",
       "       0.68, 0.42, 0.28, 0.81, 0.49, 0.92, 0.26, 0.42, 0.48, 0.87, 0.43,\n",
       "       0.98, 0.35, 0.41, 0.93, 0.40, 0.22, 0.86, 0.89, 0.20, 0.34, 0.19,\n",
       "       0.59, 0.75, 0.20, 0.29, 0.89, 0.35, 0.82, 0.31, 0.99, 0.96, 0.65,\n",
       "       0.35, 0.54, 0.94, 0.82, 0.98, 0.37, 0.34, 0.51, 0.56, 0.28, 0.77,\n",
       "       0.23, 0.21, 0.97, 0.99, 0.61, 0.24, 0.94, 0.73, 0.31, 0.80, 0.21,\n",
       "       0.21, 0.28, 0.66, 0.38, 0.22, 0.54, 0.58, 0.66, 0.82, 1.00, 0.40,\n",
       "       0.30, 0.27, 0.52, 0.28, 0.73, 0.57, 0.90, 0.54, 0.75, 0.24, 0.99,\n",
       "       0.45, 0.75, 0.28, 0.42, 0.34, 0.90, 0.28, 0.94, 1.00, 0.40, 0.96,\n",
       "       0.21, 0.99, 0.41, 0.34, 0.29, 0.40, 0.65, 0.25, 0.47, 0.29, 0.32,\n",
       "       0.21, 0.21, 0.80, 0.48, 0.33, 0.32, 0.40, 0.32, 0.28, 0.36, 0.99,\n",
       "       0.76, 0.31, 0.29, 0.32, 0.19, 0.39, 0.96, 0.32, 0.97, 0.53, 0.77,\n",
       "       0.66, 0.31, 0.24, 0.25, 0.24, 0.21, 0.35, 0.49, 0.26, 1.00, 0.16,\n",
       "       0.99, 0.93, 0.99, 0.34, 0.20, 0.34, 0.86, 0.37, 0.85, 0.66, 0.67,\n",
       "       0.27, 0.99, 0.51, 0.18, 0.36, 0.77, 1.00, 0.36, 0.27, 0.55, 0.78,\n",
       "       0.20, 0.69, 0.79, 0.32, 0.61, 0.30, 0.16, 0.23, 0.33, 0.25, 0.33,\n",
       "       0.28, 0.61, 0.97, 0.39, 0.45, 0.58, 0.29, 1.00, 0.98, 0.44, 0.61,\n",
       "       0.59, 0.28, 0.36, 0.24, 0.92, 0.39, 0.48, 0.38, 0.32, 0.84, 0.37,\n",
       "       0.31, 0.50, 0.21, 0.28, 0.59, 0.28, 0.20, 0.64, 0.35, 0.98, 0.38,\n",
       "       0.41, 0.37, 0.56, 0.78, 0.51, 0.26, 0.55, 0.87, 0.22, 0.29, 0.53,\n",
       "       0.98, 0.51, 0.95, 0.59, 0.78, 0.72, 0.65, 0.40, 0.41, 0.68, 0.18,\n",
       "       0.73, 0.41, 0.73, 0.44, 0.56, 0.37, 0.52, 0.39, 0.60, 0.31, 0.51,\n",
       "       0.90, 0.87, 0.26, 0.57, 0.59, 0.42, 0.39, 0.27, 0.48, 0.44, 0.95,\n",
       "       0.24, 0.28, 0.37, 0.20, 0.84, 0.54, 0.41, 0.64, 0.84, 0.25, 0.83,\n",
       "       0.79, 0.27, 0.93, 0.24, 0.28, 0.97, 0.74, 0.29, 0.34, 0.30, 0.73,\n",
       "       0.54, 0.28, 0.30, 0.27, 0.24, 1.00, 0.39, 0.33, 0.68, 0.68, 0.40,\n",
       "       0.98, 0.66, 0.35, 0.33, 0.58, 0.36, 0.86, 0.19, 0.53, 0.46, 0.18,\n",
       "       0.98, 0.86, 0.82, 0.87, 0.80, 0.40, 0.24, 0.88, 0.81, 0.59, 0.21,\n",
       "       0.26, 0.32, 0.31, 0.49, 0.24, 0.67, 0.21, 0.27, 0.25, 0.30, 0.70,\n",
       "       0.54, 0.16, 0.91, 0.43, 0.68, 0.68, 0.37, 0.34, 0.92, 0.45, 0.67,\n",
       "       0.27])"
      ]
     },
     "execution_count": 12,
     "metadata": {},
     "output_type": "execute_result"
    }
   ],
   "source": [
    "# lets format it to readable array\n",
    "np.set_printoptions(formatter={'float':lambda x:\"{0:0.2f}\".format(x)})\n",
    "result_log.predict()\n",
    "\n",
    "# as we can see in the below array theres 0.00-1.00 value that is the probability"
   ]
  },
  {
   "cell_type": "code",
   "execution_count": 14,
   "metadata": {},
   "outputs": [
    {
     "data": {
      "text/plain": [
       "array([[204.00, 55.00],\n",
       "       [104.00, 155.00]])"
      ]
     },
     "execution_count": 14,
     "metadata": {},
     "output_type": "execute_result"
    }
   ],
   "source": [
    "# there is a simple way to see the accuracy of the model by using a stats model prediction model\n",
    "# we call this the confusion matrix, this matrix measure the error prediction of the model\n",
    "\n",
    "result_log.pred_table ()"
   ]
  },
  {
   "cell_type": "code",
   "execution_count": 17,
   "metadata": {},
   "outputs": [
    {
     "data": {
      "text/html": [
       "<div>\n",
       "<style scoped>\n",
       "    .dataframe tbody tr th:only-of-type {\n",
       "        vertical-align: middle;\n",
       "    }\n",
       "\n",
       "    .dataframe tbody tr th {\n",
       "        vertical-align: top;\n",
       "    }\n",
       "\n",
       "    .dataframe thead th {\n",
       "        text-align: right;\n",
       "    }\n",
       "</style>\n",
       "<table border=\"1\" class=\"dataframe\">\n",
       "  <thead>\n",
       "    <tr style=\"text-align: right;\">\n",
       "      <th></th>\n",
       "      <th>Predicted 0</th>\n",
       "      <th>Predicted 1</th>\n",
       "    </tr>\n",
       "  </thead>\n",
       "  <tbody>\n",
       "    <tr>\n",
       "      <td>Actual 0</td>\n",
       "      <td>204.0</td>\n",
       "      <td>55.0</td>\n",
       "    </tr>\n",
       "    <tr>\n",
       "      <td>Actual 1</td>\n",
       "      <td>104.0</td>\n",
       "      <td>155.0</td>\n",
       "    </tr>\n",
       "  </tbody>\n",
       "</table>\n",
       "</div>"
      ],
      "text/plain": [
       "          Predicted 0  Predicted 1\n",
       "Actual 0        204.0         55.0\n",
       "Actual 1        104.0        155.0"
      ]
     },
     "execution_count": 17,
     "metadata": {},
     "output_type": "execute_result"
    }
   ],
   "source": [
    "# lets make a confuison matrix table based on pred_table based on stats model\n",
    "\n",
    "cm_df = pd.DataFrame(result_log.pred_table())\n",
    "cm_df.columns = ['Predicted 0','Predicted 1']\n",
    "cm_df = cm_df.rename(index ={0: 'Actual 0',1: 'Actual 1'})\n",
    "cm_df"
   ]
  },
  {
   "cell_type": "markdown",
   "metadata": {},
   "source": [
    "based on this confusion matrix we can interprete that \n",
    "\n",
    "204 + 155 = 359 (This is the result of model did its job well)\n",
    "\n",
    "104 + 55 = 159 (This the result of model got confused or error)\n",
    "\n",
    "so the ratio is 359:159"
   ]
  },
  {
   "cell_type": "code",
   "execution_count": 19,
   "metadata": {},
   "outputs": [
    {
     "data": {
      "text/plain": [
       "0.693050193050193"
      ]
     },
     "execution_count": 19,
     "metadata": {},
     "output_type": "execute_result"
    }
   ],
   "source": [
    "# if u want the percentage result this is the code\n",
    "\n",
    "cm= np.array(cm_df)\n",
    "accuracy_train = (cm[0,0]+cm[1,1])/cm.sum()\n",
    "accuracy_train"
   ]
  },
  {
   "cell_type": "markdown",
   "metadata": {},
   "source": [
    "so we get 69% accuracy\n",
    "\n",
    "that is not a really good accuracy for the model so wen need to improve it by adding some more fucntion etc..."
   ]
  }
 ],
 "metadata": {
  "kernelspec": {
   "display_name": "Python 3",
   "language": "python",
   "name": "python3"
  },
  "language_info": {
   "codemirror_mode": {
    "name": "ipython",
    "version": 3
   },
   "file_extension": ".py",
   "mimetype": "text/x-python",
   "name": "python",
   "nbconvert_exporter": "python",
   "pygments_lexer": "ipython3",
   "version": "3.7.4"
  }
 },
 "nbformat": 4,
 "nbformat_minor": 4
}
