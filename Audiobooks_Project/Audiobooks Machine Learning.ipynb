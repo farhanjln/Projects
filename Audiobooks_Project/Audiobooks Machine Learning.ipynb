{
 "cells": [
  {
   "cell_type": "markdown",
   "metadata": {},
   "source": [
    "## Create Machine Learning Algorithm"
   ]
  },
  {
   "cell_type": "markdown",
   "metadata": {},
   "source": [
    "### Libraries"
   ]
  },
  {
   "cell_type": "code",
   "execution_count": 2,
   "metadata": {},
   "outputs": [],
   "source": [
    "import numpy as np\n",
    "import tensorflow as tf"
   ]
  },
  {
   "cell_type": "markdown",
   "metadata": {},
   "source": [
    "### Data"
   ]
  },
  {
   "cell_type": "code",
   "execution_count": 3,
   "metadata": {},
   "outputs": [],
   "source": [
    "npz = np.load('Audiobooks_data_train.npz')\n",
    "\n",
    "train_inputs = npz['inputs'].astype(np.float)\n",
    "train_targets = npz['targets'].astype(np.int)\n",
    "\n",
    "npz = np.load('Audiobooks_data_validation.npz')\n",
    "validation_inputs = npz['inputs'].astype(np.float)\n",
    "validation_targets = npz['target'].astype(np.int)\n",
    "\n",
    "npz = np.load('Audiobooks_data_test.npz')\n",
    "test_inputs = npz['inputs'].astype(np.float)\n",
    "test_targets = npz['targets'].astype(np.int)"
   ]
  },
  {
   "cell_type": "markdown",
   "metadata": {},
   "source": [
    "## Model\n",
    "Outline, optimizer, loss, early stopping, and training"
   ]
  },
  {
   "cell_type": "code",
   "execution_count": 4,
   "metadata": {},
   "outputs": [
    {
     "name": "stdout",
     "output_type": "stream",
     "text": [
      "WARNING:tensorflow:From C:\\Users\\---\\Anaconda3\\lib\\site-packages\\tensorflow_core\\python\\ops\\resource_variable_ops.py:1630: calling BaseResourceVariable.__init__ (from tensorflow.python.ops.resource_variable_ops) with constraint is deprecated and will be removed in a future version.\n",
      "Instructions for updating:\n",
      "If using Keras pass *_constraint arguments to layers.\n",
      "Train on 3579 samples, validate on 447 samples\n",
      "Epoch 1/100\n",
      "3579/3579 [==============================] - 2s 633us/sample - loss: 0.6367 - acc: 0.6292 - val_loss: 0.5433 - val_acc: 0.7092\n",
      "Epoch 2/100\n",
      "3579/3579 [==============================] - 0s 54us/sample - loss: 0.4917 - acc: 0.7530 - val_loss: 0.4619 - val_acc: 0.7606\n",
      "Epoch 3/100\n",
      "3579/3579 [==============================] - 0s 81us/sample - loss: 0.4363 - acc: 0.7784 - val_loss: 0.4262 - val_acc: 0.7830\n",
      "Epoch 4/100\n",
      "3579/3579 [==============================] - 0s 44us/sample - loss: 0.4052 - acc: 0.7865 - val_loss: 0.4037 - val_acc: 0.8098\n",
      "Epoch 5/100\n",
      "3579/3579 [==============================] - 0s 65us/sample - loss: 0.3859 - acc: 0.7969 - val_loss: 0.3836 - val_acc: 0.8076\n",
      "Epoch 6/100\n",
      "3579/3579 [==============================] - 0s 67us/sample - loss: 0.3714 - acc: 0.8019 - val_loss: 0.3784 - val_acc: 0.8188\n",
      "Epoch 7/100\n",
      "3579/3579 [==============================] - 0s 46us/sample - loss: 0.3645 - acc: 0.8030 - val_loss: 0.3645 - val_acc: 0.8255\n",
      "Epoch 8/100\n",
      "3579/3579 [==============================] - 0s 70us/sample - loss: 0.3547 - acc: 0.8080 - val_loss: 0.3587 - val_acc: 0.7830\n",
      "Epoch 9/100\n",
      "3579/3579 [==============================] - 0s 37us/sample - loss: 0.3497 - acc: 0.8125 - val_loss: 0.3598 - val_acc: 0.8255\n",
      "Epoch 10/100\n",
      "3579/3579 [==============================] - 0s 63us/sample - loss: 0.3462 - acc: 0.8120 - val_loss: 0.3575 - val_acc: 0.8121\n",
      "Epoch 11/100\n",
      "3579/3579 [==============================] - 0s 72us/sample - loss: 0.3496 - acc: 0.8125 - val_loss: 0.3501 - val_acc: 0.8076\n",
      "Epoch 12/100\n",
      "3579/3579 [==============================] - 0s 49us/sample - loss: 0.3391 - acc: 0.8215 - val_loss: 0.3480 - val_acc: 0.8277\n",
      "Epoch 13/100\n",
      "3579/3579 [==============================] - 0s 59us/sample - loss: 0.3349 - acc: 0.8189 - val_loss: 0.3544 - val_acc: 0.8188\n",
      "Epoch 14/100\n",
      "3579/3579 [==============================] - 0s 51us/sample - loss: 0.3356 - acc: 0.8156 - val_loss: 0.3391 - val_acc: 0.8255\n",
      "Epoch 15/100\n",
      "3579/3579 [==============================] - 0s 69us/sample - loss: 0.3323 - acc: 0.8167 - val_loss: 0.3360 - val_acc: 0.8143\n",
      "Epoch 16/100\n",
      "3579/3579 [==============================] - 0s 36us/sample - loss: 0.3322 - acc: 0.8189 - val_loss: 0.3403 - val_acc: 0.8300\n",
      "Epoch 17/100\n",
      "3579/3579 [==============================] - 0s 36us/sample - loss: 0.3299 - acc: 0.8251 - val_loss: 0.3411 - val_acc: 0.8210\n"
     ]
    },
    {
     "data": {
      "text/plain": [
       "<tensorflow.python.keras.callbacks.History at 0x191efca8308>"
      ]
     },
     "execution_count": 4,
     "metadata": {},
     "output_type": "execute_result"
    }
   ],
   "source": [
    "## we create the 10 inputs 2 hidden layers with 50 network each and 2 outputs\n",
    "input_size = 10\n",
    "output_size = 2\n",
    "hidden_layer_size = 50\n",
    "\n",
    "model = tf.keras.Sequential ([\n",
    "                                tf.keras.layers.Dense(hidden_layer_size, activation = 'relu'),\n",
    "                                tf.keras.layers.Dense(hidden_layer_size, activation = 'relu'),\n",
    "                                tf.keras.layers.Dense(output_size, activation = 'softmax')\n",
    "                            ])\n",
    "\n",
    "model.compile(optimizer = 'adam', loss = 'sparse_categorical_crossentropy', metrics = ['accuracy'])\n",
    "\n",
    "batch_size = 100\n",
    "\n",
    "max_epochs = 100\n",
    "\n",
    "# added the new early stopping hyperparameter\n",
    "# we can set the patience for the allowance\n",
    "early_stopping = tf.keras.callbacks.EarlyStopping(patience = 2)\n",
    "\n",
    "model.fit(train_inputs,train_targets,\n",
    "         batch_size = batch_size,\n",
    "         epochs = max_epochs,\n",
    "          # added callbacks\n",
    "          callbacks = [early_stopping],\n",
    "         validation_data = (validation_inputs, validation_targets),\n",
    "         verbose = 1)"
   ]
  },
  {
   "cell_type": "code",
   "execution_count": 5,
   "metadata": {},
   "outputs": [],
   "source": [
    "## This probably overfit because when the accuracy constantly decreasing, but the val_loss is up-and-down\n",
    "## so we need the early stopping mechanism to prevent the overfit"
   ]
  },
  {
   "cell_type": "markdown",
   "metadata": {},
   "source": [
    "## Test the model"
   ]
  },
  {
   "cell_type": "code",
   "execution_count": 6,
   "metadata": {},
   "outputs": [
    {
     "name": "stdout",
     "output_type": "stream",
     "text": [
      "448/448 [==============================] - 0s 69us/sample - loss: 0.3398 - acc: 0.8036\n"
     ]
    }
   ],
   "source": [
    "test_loss, test_accuracy = model.evaluate(test_inputs,test_targets)"
   ]
  },
  {
   "cell_type": "code",
   "execution_count": 7,
   "metadata": {},
   "outputs": [
    {
     "name": "stdout",
     "output_type": "stream",
     "text": [
      "\n",
      "Test loss: 0.34. Test accuracy: 0.80%\n"
     ]
    }
   ],
   "source": [
    "print('\\nTest loss: {0:.2f}. Test accuracy: {1:.2f}%' .format (test_loss, test_accuracy))"
   ]
  },
  {
   "cell_type": "markdown",
   "metadata": {},
   "source": [
    "This result is improvable perhaps we can change the optimizer, set the learning rate or adding another layers Overall this is a good value\n"
   ]
  },
  {
   "cell_type": "markdown",
   "metadata": {},
   "source": [
    "## Test the prediction"
   ]
  },
  {
   "cell_type": "code",
   "execution_count": 28,
   "metadata": {},
   "outputs": [
    {
     "data": {
      "text/plain": [
       "array([1], dtype=int64)"
      ]
     },
     "execution_count": 28,
     "metadata": {},
     "output_type": "execute_result"
    }
   ],
   "source": [
    "# you can customize the new_inputs based on the dataset\n",
    "new_inputs = [[[2160, 2160, 5.33, 5.33, 0, 8.91, 0, 0, 0, 0]]]\n",
    "model.predict_classes(new_inputs)"
   ]
  },
  {
   "cell_type": "code",
   "execution_count": 29,
   "metadata": {},
   "outputs": [
    {
     "name": "stdout",
     "output_type": "stream",
     "text": [
      "The customer probably will going to buy the product again\n"
     ]
    }
   ],
   "source": [
    "new_input_value = model.predict_classes(new_inputs)\n",
    "\n",
    "if new_input_value > [0]:\n",
    "    print ('The customer probably will going to buy the product again')\n",
    "elif new_input_value == [0]:\n",
    "    print ('The customer probably will not gonna buy the product again')"
   ]
  },
  {
   "cell_type": "code",
   "execution_count": null,
   "metadata": {},
   "outputs": [],
   "source": []
  }
 ],
 "metadata": {
  "kernelspec": {
   "display_name": "Python 3",
   "language": "python",
   "name": "python3"
  },
  "language_info": {
   "codemirror_mode": {
    "name": "ipython",
    "version": 3
   },
   "file_extension": ".py",
   "mimetype": "text/x-python",
   "name": "python",
   "nbconvert_exporter": "python",
   "pygments_lexer": "ipython3",
   "version": "3.7.4"
  }
 },
 "nbformat": 4,
 "nbformat_minor": 4
}
