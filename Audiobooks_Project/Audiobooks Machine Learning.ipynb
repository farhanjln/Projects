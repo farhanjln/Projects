{
 "cells": [
  {
   "cell_type": "markdown",
   "metadata": {},
   "source": [
    "## Create Machine Learning Algorithm"
   ]
  },
  {
   "cell_type": "markdown",
   "metadata": {},
   "source": [
    "### Libraries"
   ]
  },
  {
   "cell_type": "code",
   "execution_count": 1,
   "metadata": {},
   "outputs": [],
   "source": [
    "import numpy as np\n",
    "import tensorflow as tf"
   ]
  },
  {
   "cell_type": "markdown",
   "metadata": {},
   "source": [
    "### Data"
   ]
  },
  {
   "cell_type": "code",
   "execution_count": 4,
   "metadata": {},
   "outputs": [],
   "source": [
    "npz = np.load('Audiobooks_data_train.npz')\n",
    "\n",
    "train_inputs = npz['inputs'].astype(np.float)\n",
    "train_targets = npz['targets'].astype(np.int)\n",
    "\n",
    "npz = np.load('Audiobooks_data_validation.npz')\n",
    "validation_inputs = npz['inputs'].astype(np.float)\n",
    "validation_targets = npz['target'].astype(np.int)\n",
    "\n",
    "npz = np.load('Audiobooks_data_test.npz')\n",
    "test_inputs = npz['inputs'].astype(np.float)\n",
    "test_targets = npz['targets'].astype(np.int)"
   ]
  },
  {
   "cell_type": "markdown",
   "metadata": {},
   "source": [
    "## Model\n",
    "Outline, optimizer, loss, early stopping, and training"
   ]
  },
  {
   "cell_type": "code",
   "execution_count": 8,
   "metadata": {},
   "outputs": [
    {
     "name": "stdout",
     "output_type": "stream",
     "text": [
      "Epoch 1/100\n",
      "36/36 [==============================] - 0s 9ms/step - loss: 0.5750 - accuracy: 0.6692 - val_loss: 0.4905 - val_accuracy: 0.7472\n",
      "Epoch 2/100\n",
      "36/36 [==============================] - 0s 2ms/step - loss: 0.4519 - accuracy: 0.7558 - val_loss: 0.4226 - val_accuracy: 0.7919\n",
      "Epoch 3/100\n",
      "36/36 [==============================] - 0s 2ms/step - loss: 0.4023 - accuracy: 0.7896 - val_loss: 0.3911 - val_accuracy: 0.7852\n",
      "Epoch 4/100\n",
      "36/36 [==============================] - 0s 3ms/step - loss: 0.3777 - accuracy: 0.7902 - val_loss: 0.3759 - val_accuracy: 0.7852\n",
      "Epoch 5/100\n",
      "36/36 [==============================] - 0s 3ms/step - loss: 0.3689 - accuracy: 0.7963 - val_loss: 0.3655 - val_accuracy: 0.7875\n",
      "Epoch 6/100\n",
      "36/36 [==============================] - 0s 3ms/step - loss: 0.3559 - accuracy: 0.8050 - val_loss: 0.3654 - val_accuracy: 0.7808\n",
      "Epoch 7/100\n",
      "36/36 [==============================] - 0s 3ms/step - loss: 0.3505 - accuracy: 0.8078 - val_loss: 0.3481 - val_accuracy: 0.8233\n",
      "Epoch 8/100\n",
      "36/36 [==============================] - 0s 3ms/step - loss: 0.3452 - accuracy: 0.8122 - val_loss: 0.3442 - val_accuracy: 0.8188\n",
      "Epoch 9/100\n",
      "36/36 [==============================] - 0s 3ms/step - loss: 0.3407 - accuracy: 0.8078 - val_loss: 0.3466 - val_accuracy: 0.8479\n",
      "Epoch 10/100\n",
      "36/36 [==============================] - 0s 2ms/step - loss: 0.3381 - accuracy: 0.8173 - val_loss: 0.3378 - val_accuracy: 0.8389\n",
      "Epoch 11/100\n",
      "36/36 [==============================] - 0s 3ms/step - loss: 0.3339 - accuracy: 0.8226 - val_loss: 0.3447 - val_accuracy: 0.8054\n",
      "Epoch 12/100\n",
      "36/36 [==============================] - 0s 2ms/step - loss: 0.3328 - accuracy: 0.8240 - val_loss: 0.3339 - val_accuracy: 0.8345\n",
      "Epoch 13/100\n",
      "36/36 [==============================] - 0s 3ms/step - loss: 0.3319 - accuracy: 0.8170 - val_loss: 0.3298 - val_accuracy: 0.8501\n",
      "Epoch 14/100\n",
      "36/36 [==============================] - 0s 3ms/step - loss: 0.3309 - accuracy: 0.8270 - val_loss: 0.3293 - val_accuracy: 0.8568\n",
      "Epoch 15/100\n",
      "36/36 [==============================] - 0s 3ms/step - loss: 0.3274 - accuracy: 0.8201 - val_loss: 0.3280 - val_accuracy: 0.8277\n",
      "Epoch 16/100\n",
      "36/36 [==============================] - 0s 3ms/step - loss: 0.3275 - accuracy: 0.8226 - val_loss: 0.3402 - val_accuracy: 0.8076\n",
      "Epoch 17/100\n",
      "36/36 [==============================] - 0s 3ms/step - loss: 0.3238 - accuracy: 0.8259 - val_loss: 0.3253 - val_accuracy: 0.8322\n",
      "Epoch 18/100\n",
      "36/36 [==============================] - 0s 2ms/step - loss: 0.3207 - accuracy: 0.8265 - val_loss: 0.3357 - val_accuracy: 0.8255\n",
      "Epoch 19/100\n",
      "36/36 [==============================] - 0s 3ms/step - loss: 0.3265 - accuracy: 0.8220 - val_loss: 0.3248 - val_accuracy: 0.8412\n",
      "Epoch 20/100\n",
      "36/36 [==============================] - 0s 3ms/step - loss: 0.3226 - accuracy: 0.8212 - val_loss: 0.3282 - val_accuracy: 0.8098\n",
      "Epoch 21/100\n",
      "36/36 [==============================] - 0s 3ms/step - loss: 0.3212 - accuracy: 0.8268 - val_loss: 0.3246 - val_accuracy: 0.8322\n",
      "Epoch 22/100\n",
      "36/36 [==============================] - 0s 3ms/step - loss: 0.3173 - accuracy: 0.8237 - val_loss: 0.3267 - val_accuracy: 0.8412\n",
      "Epoch 23/100\n",
      "36/36 [==============================] - 0s 4ms/step - loss: 0.3163 - accuracy: 0.8262 - val_loss: 0.3262 - val_accuracy: 0.8501\n"
     ]
    },
    {
     "data": {
      "text/plain": [
       "<tensorflow.python.keras.callbacks.History at 0x2149ec6b5c8>"
      ]
     },
     "execution_count": 8,
     "metadata": {},
     "output_type": "execute_result"
    }
   ],
   "source": [
    "## we create the 10 inputs 2 hidden layers with 50 network each and 2 outputs\n",
    "input_size = 10\n",
    "output_size = 2\n",
    "hidden_layer_size = 50\n",
    "\n",
    "model = tf.keras.Sequential ([\n",
    "                                tf.keras.layers.Dense(hidden_layer_size, activation = 'relu'),\n",
    "                                tf.keras.layers.Dense(hidden_layer_size, activation = 'relu'),\n",
    "                                tf.keras.layers.Dense(output_size, activation = 'softmax')\n",
    "                            ])\n",
    "\n",
    "model.compile(optimizer = 'adam', loss = 'sparse_categorical_crossentropy', metrics = ['accuracy'])\n",
    "\n",
    "batch_size = 100\n",
    "\n",
    "max_epochs = 100\n",
    "\n",
    "# added the new early stopping hyperparameter\n",
    "# we can set the patience for the allowance\n",
    "early_stopping = tf.keras.callbacks.EarlyStopping(patience = 2)\n",
    "\n",
    "model.fit(train_inputs,train_targets,\n",
    "         batch_size = batch_size,\n",
    "         epochs = max_epochs,\n",
    "          # added callbacks\n",
    "          callbacks = [early_stopping],\n",
    "         validation_data = (validation_inputs, validation_targets),\n",
    "         verbose = 1)"
   ]
  },
  {
   "cell_type": "code",
   "execution_count": 6,
   "metadata": {},
   "outputs": [],
   "source": [
    "## This probably overfit because when the accuracy constantly decreasing, but the val_loss is up-and-down\n",
    "## so we need the early stopping mechanism to prevent the overfit"
   ]
  },
  {
   "cell_type": "markdown",
   "metadata": {},
   "source": [
    "## Test the model"
   ]
  },
  {
   "cell_type": "code",
   "execution_count": 9,
   "metadata": {},
   "outputs": [
    {
     "name": "stdout",
     "output_type": "stream",
     "text": [
      "14/14 [==============================] - 0s 3ms/step - loss: 0.3290 - accuracy: 0.8103\n"
     ]
    }
   ],
   "source": [
    "test_loss, test_accuracy = model.evaluate(test_inputs,test_targets)"
   ]
  },
  {
   "cell_type": "code",
   "execution_count": 10,
   "metadata": {},
   "outputs": [
    {
     "name": "stdout",
     "output_type": "stream",
     "text": [
      "\n",
      "Test loss: 0.33. Test accuracy: 0.81%\n"
     ]
    }
   ],
   "source": [
    "print('\\nTest loss: {0:.2f}. Test accuracy: {1:.2f}%' .format (test_loss, test_accuracy))"
   ]
  },
  {
   "cell_type": "markdown",
   "metadata": {},
   "source": [
    "### This result is improvable perhaps we can change the optimizer, set the learning rate or adding another layers\n",
    "### Overall this is a good value\n",
    "### to be continued..."
   ]
  },
  {
   "cell_type": "code",
   "execution_count": null,
   "metadata": {},
   "outputs": [],
   "source": []
  }
 ],
 "metadata": {
  "kernelspec": {
   "display_name": "Python 3",
   "language": "python",
   "name": "python3"
  },
  "language_info": {
   "codemirror_mode": {
    "name": "ipython",
    "version": 3
   },
   "file_extension": ".py",
   "mimetype": "text/x-python",
   "name": "python",
   "nbconvert_exporter": "python",
   "pygments_lexer": "ipython3",
   "version": "3.7.9"
  }
 },
 "nbformat": 4,
 "nbformat_minor": 4
}
